{
 "cells": [
  {
   "cell_type": "code",
   "execution_count": null,
   "metadata": {
    "application/vnd.databricks.v1+cell": {
     "cellMetadata": {
      "byteLimit": 2048000,
      "rowLimit": 10000
     },
     "inputWidgets": {},
     "nuid": "4fb05249-42ce-4c05-9d0c-3a4da677796d",
     "showTitle": false,
     "title": ""
    }
   },
   "outputs": [
    {
     "data": {
      "text/html": [
       "<style scoped>\n",
       "  .ansiout {\n",
       "    display: block;\n",
       "    unicode-bidi: embed;\n",
       "    white-space: pre-wrap;\n",
       "    word-wrap: break-word;\n",
       "    word-break: break-all;\n",
       "    font-family: \"Menlo\", \"Monaco\", \"Consolas\", \"Ubuntu Mono\", \"Source Code Pro\", monospace;\n",
       "    font-size: 13px;\n",
       "    color: #555;\n",
       "    margin-left: 4px;\n",
       "    line-height: 19px;\n",
       "  }\n",
       "</style>\n",
       "<div class=\"ansiout\">[<span class=\"ansi-blue-fg\">2024-01-02T12:55:36.828+0000</span>] {<span class=\"ansi-blue-fg\">java_gateway.py:</span>2384} INFO - Received command c on object id p0\n",
       "[<span class=\"ansi-blue-fg\">2024-01-02T12:55:36.830+0000</span>] {<span class=\"ansi-blue-fg\">java_gateway.py:</span>2384} INFO - Received command c on object id p0\n",
       "[<span class=\"ansi-blue-fg\">2024-01-02T12:55:36.831+0000</span>] {<span class=\"ansi-blue-fg\">java_gateway.py:</span>2384} INFO - Received command c on object id p0\n",
       "[<span class=\"ansi-blue-fg\">2024-01-02T12:55:36.832+0000</span>] {<span class=\"ansi-blue-fg\">java_gateway.py:</span>2384} INFO - Received command c on object id p0\n",
       "[<span class=\"ansi-blue-fg\">2024-01-02T12:55:36.833+0000</span>] {<span class=\"ansi-blue-fg\">java_gateway.py:</span>2384} INFO - Received command c on object id p0\n",
       "[<span class=\"ansi-blue-fg\">2024-01-02T12:55:36.834+0000</span>] {<span class=\"ansi-blue-fg\">java_gateway.py:</span>2384} INFO - Received command c on object id p0\n",
       "[<span class=\"ansi-blue-fg\">2024-01-02T12:55:36.840+0000</span>] {<span class=\"ansi-blue-fg\">java_gateway.py:</span>2384} INFO - Received command c on object id p0\n",
       "[<span class=\"ansi-blue-fg\">2024-01-02T12:55:36.840+0000</span>] {<span class=\"ansi-blue-fg\">java_gateway.py:</span>2384} INFO - Received command c on object id p0\n",
       "[<span class=\"ansi-blue-fg\">2024-01-02T12:55:36.922+0000</span>] {<span class=\"ansi-blue-fg\">java_gateway.py:</span>2384} INFO - Received command c on object id p0\n",
       "[<span class=\"ansi-blue-fg\">2024-01-02T12:55:37.028+0000</span>] {<span class=\"ansi-blue-fg\">java_gateway.py:</span>2384} INFO - Received command c on object id p0\n",
       "[<span class=\"ansi-blue-fg\">2024-01-02T12:55:37.130+0000</span>] {<span class=\"ansi-blue-fg\">java_gateway.py:</span>2384} INFO - Received command c on object id p0\n",
       "[<span class=\"ansi-blue-fg\">2024-01-02T12:55:37.232+0000</span>] {<span class=\"ansi-blue-fg\">java_gateway.py:</span>2384} INFO - Received command c on object id p0\n",
       "[<span class=\"ansi-blue-fg\">2024-01-02T12:55:37.243+0000</span>] {<span class=\"ansi-blue-fg\">java_gateway.py:</span>2384} INFO - Received command c on object id p0\n",
       "[<span class=\"ansi-blue-fg\">2024-01-02T12:55:37.247+0000</span>] {<span class=\"ansi-blue-fg\">java_gateway.py:</span>2384} INFO - Received command c on object id p0\n",
       "[<span class=\"ansi-blue-fg\">2024-01-02T12:55:37.248+0000</span>] {<span class=\"ansi-blue-fg\">java_gateway.py:</span>2384} INFO - Received command c on object id p0\n",
       "[<span class=\"ansi-blue-fg\">2024-01-02T12:55:37.250+0000</span>] {<span class=\"ansi-blue-fg\">java_gateway.py:</span>2384} INFO - Received command c on object id p0\n",
       "[<span class=\"ansi-blue-fg\">2024-01-02T12:55:37.251+0000</span>] {<span class=\"ansi-blue-fg\">java_gateway.py:</span>2384} INFO - Received command c on object id p0\n",
       "[<span class=\"ansi-blue-fg\">2024-01-02T12:55:37.252+0000</span>] {<span class=\"ansi-blue-fg\">java_gateway.py:</span>2384} INFO - Received command c on object id p0\n",
       "[<span class=\"ansi-blue-fg\">2024-01-02T12:55:37.255+0000</span>] {<span class=\"ansi-blue-fg\">java_gateway.py:</span>2384} INFO - Received command c on object id p0\n",
       "[<span class=\"ansi-blue-fg\">2024-01-02T12:55:37.257+0000</span>] {<span class=\"ansi-blue-fg\">java_gateway.py:</span>2384} INFO - Received command c on object id p0\n",
       "[<span class=\"ansi-blue-fg\">2024-01-02T12:55:37.336+0000</span>] {<span class=\"ansi-blue-fg\">java_gateway.py:</span>2384} INFO - Received command c on object id p0\n",
       "<span class=\"ansi-yellow-intense-fg ansi-bold\">&lt;</span><span class=\"ansi-yellow-intense-fg ansi-bold\">command-</span><span class=\"ansi-yellow-intense-fg ansi-bold\">4486420989006519</span><span class=\"ansi-yellow-intense-fg ansi-bold\">&gt;</span><span class=\"ansi-yellow-intense-fg ansi-bold\">:</span><span class=\"ansi-yellow-intense-fg ansi-bold\">27</span><span class=\"ansi-yellow-intense-fg ansi-bold\"> RemovedInAirflow3Warning</span><span class=\"ansi-yellow-fg\">: Param `schedule_interval` is deprecated and will be removed in a future release. Please use `schedule` instead.</span>\n",
       "\n",
       "</div>"
      ]
     },
     "metadata": {
      "application/vnd.databricks.v1+output": {
       "addedWidgets": {},
       "arguments": {},
       "data": "<div class=\"ansiout\">[<span class=\"ansi-blue-fg\">2024-01-02T12:55:36.828+0000</span>] {<span class=\"ansi-blue-fg\">java_gateway.py:</span>2384} INFO - Received command c on object id p0\n[<span class=\"ansi-blue-fg\">2024-01-02T12:55:36.830+0000</span>] {<span class=\"ansi-blue-fg\">java_gateway.py:</span>2384} INFO - Received command c on object id p0\n[<span class=\"ansi-blue-fg\">2024-01-02T12:55:36.831+0000</span>] {<span class=\"ansi-blue-fg\">java_gateway.py:</span>2384} INFO - Received command c on object id p0\n[<span class=\"ansi-blue-fg\">2024-01-02T12:55:36.832+0000</span>] {<span class=\"ansi-blue-fg\">java_gateway.py:</span>2384} INFO - Received command c on object id p0\n[<span class=\"ansi-blue-fg\">2024-01-02T12:55:36.833+0000</span>] {<span class=\"ansi-blue-fg\">java_gateway.py:</span>2384} INFO - Received command c on object id p0\n[<span class=\"ansi-blue-fg\">2024-01-02T12:55:36.834+0000</span>] {<span class=\"ansi-blue-fg\">java_gateway.py:</span>2384} INFO - Received command c on object id p0\n[<span class=\"ansi-blue-fg\">2024-01-02T12:55:36.840+0000</span>] {<span class=\"ansi-blue-fg\">java_gateway.py:</span>2384} INFO - Received command c on object id p0\n[<span class=\"ansi-blue-fg\">2024-01-02T12:55:36.840+0000</span>] {<span class=\"ansi-blue-fg\">java_gateway.py:</span>2384} INFO - Received command c on object id p0\n[<span class=\"ansi-blue-fg\">2024-01-02T12:55:36.922+0000</span>] {<span class=\"ansi-blue-fg\">java_gateway.py:</span>2384} INFO - Received command c on object id p0\n[<span class=\"ansi-blue-fg\">2024-01-02T12:55:37.028+0000</span>] {<span class=\"ansi-blue-fg\">java_gateway.py:</span>2384} INFO - Received command c on object id p0\n[<span class=\"ansi-blue-fg\">2024-01-02T12:55:37.130+0000</span>] {<span class=\"ansi-blue-fg\">java_gateway.py:</span>2384} INFO - Received command c on object id p0\n[<span class=\"ansi-blue-fg\">2024-01-02T12:55:37.232+0000</span>] {<span class=\"ansi-blue-fg\">java_gateway.py:</span>2384} INFO - Received command c on object id p0\n[<span class=\"ansi-blue-fg\">2024-01-02T12:55:37.243+0000</span>] {<span class=\"ansi-blue-fg\">java_gateway.py:</span>2384} INFO - Received command c on object id p0\n[<span class=\"ansi-blue-fg\">2024-01-02T12:55:37.247+0000</span>] {<span class=\"ansi-blue-fg\">java_gateway.py:</span>2384} INFO - Received command c on object id p0\n[<span class=\"ansi-blue-fg\">2024-01-02T12:55:37.248+0000</span>] {<span class=\"ansi-blue-fg\">java_gateway.py:</span>2384} INFO - Received command c on object id p0\n[<span class=\"ansi-blue-fg\">2024-01-02T12:55:37.250+0000</span>] {<span class=\"ansi-blue-fg\">java_gateway.py:</span>2384} INFO - Received command c on object id p0\n[<span class=\"ansi-blue-fg\">2024-01-02T12:55:37.251+0000</span>] {<span class=\"ansi-blue-fg\">java_gateway.py:</span>2384} INFO - Received command c on object id p0\n[<span class=\"ansi-blue-fg\">2024-01-02T12:55:37.252+0000</span>] {<span class=\"ansi-blue-fg\">java_gateway.py:</span>2384} INFO - Received command c on object id p0\n[<span class=\"ansi-blue-fg\">2024-01-02T12:55:37.255+0000</span>] {<span class=\"ansi-blue-fg\">java_gateway.py:</span>2384} INFO - Received command c on object id p0\n[<span class=\"ansi-blue-fg\">2024-01-02T12:55:37.257+0000</span>] {<span class=\"ansi-blue-fg\">java_gateway.py:</span>2384} INFO - Received command c on object id p0\n[<span class=\"ansi-blue-fg\">2024-01-02T12:55:37.336+0000</span>] {<span class=\"ansi-blue-fg\">java_gateway.py:</span>2384} INFO - Received command c on object id p0\n<span class=\"ansi-yellow-intense-fg ansi-bold\">&lt;</span><span class=\"ansi-yellow-intense-fg ansi-bold\">command-</span><span class=\"ansi-yellow-intense-fg ansi-bold\">4486420989006519</span><span class=\"ansi-yellow-intense-fg ansi-bold\">&gt;</span><span class=\"ansi-yellow-intense-fg ansi-bold\">:</span><span class=\"ansi-yellow-intense-fg ansi-bold\">27</span><span class=\"ansi-yellow-intense-fg ansi-bold\"> RemovedInAirflow3Warning</span><span class=\"ansi-yellow-fg\">: Param `schedule_interval` is deprecated and will be removed in a future release. Please use `schedule` instead.</span>\n\n</div>",
       "datasetInfos": [],
       "metadata": {},
       "removedWidgets": [],
       "type": "html"
      }
     },
     "output_type": "display_data"
    }
   ],
   "source": [
    "from airflow import DAG\n",
    "from airflow.providers.databricks.operators.databricks import DatabricksSubmitRunOperator, DatabricksRunNowOperator\n",
    "from datetime import datetime, timedelta \n",
    "\n",
    "\n",
    "#Define params for Submit Run Operator\n",
    "notebook_task = {\n",
    "    'notebook_path': '/Users/yanti.lanning@gmail.com/airflow',\n",
    "}\n",
    "\n",
    "#Define params for Run Now Operator\n",
    "notebook_params = {\n",
    "    \"Variable\":5\n",
    "}\n",
    "\n",
    "\n",
    "default_args = {\n",
    "    'owner': 'Yanti Lanning',\n",
    "    'depends_on_past': False,\n",
    "    'email_on_failure': False,\n",
    "    'email_on_retry': False,\n",
    "    'retries': 3,\n",
    "    'retry_delay': timedelta(minutes=2)\n",
    "}\n",
    "\n",
    "\n",
    "with DAG('0a2f66c3e41f_dag',\n",
    "    # should be a datetime format\n",
    "    start_date=datetime(2023, 12, 29),\n",
    "    # check out possible intervals, should be a string\n",
    "    schedule_interval='@daily',\n",
    "    catchup=False,\n",
    "    default_args=default_args\n",
    "    ) as dag:\n",
    "\n",
    "\n",
    "    opr_submit_run = DatabricksSubmitRunOperator(\n",
    "        task_id='submit_run',\n",
    "        # the connection we set-up previously\n",
    "        databricks_conn_id='databricks_default',\n",
    "        existing_cluster_id='1108-162752-8okw8dgg',\n",
    "        notebook_task=notebook_task\n",
    "    )\n",
    "    opr_submit_run\n"
   ]
  }
 ],
 "metadata": {
  "application/vnd.databricks.v1+notebook": {
   "dashboards": [],
   "language": "python",
   "notebookMetadata": {
    "mostRecentlyExecutedCommandWithImplicitDF": {
     "commandId": 4486420989006541,
     "dataframes": [
      "_sqldf"
     ]
    },
    "pythonIndentUnit": 4
   },
   "notebookName": "airflow_dag",
   "widgets": {}
  },
  "language_info": {
   "name": "python"
  }
 },
 "nbformat": 4,
 "nbformat_minor": 0
}
