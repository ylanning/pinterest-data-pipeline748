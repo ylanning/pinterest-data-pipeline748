{
 "cells": [
  {
   "cell_type": "code",
   "execution_count": null,
   "metadata": {
    "application/vnd.databricks.v1+cell": {
     "cellMetadata": {
      "byteLimit": 2048000,
      "implicitDf": true,
      "rowLimit": 10000
     },
     "inputWidgets": {},
     "nuid": "1e439719-e2af-41dd-b947-99ae37346053",
     "showTitle": false,
     "title": ""
    }
   },
   "outputs": [
    {
     "data": {
      "text/html": [
       "<style scoped>\n",
       "  .table-result-container {\n",
       "    max-height: 300px;\n",
       "    overflow: auto;\n",
       "  }\n",
       "  table, th, td {\n",
       "    border: 1px solid black;\n",
       "    border-collapse: collapse;\n",
       "  }\n",
       "  th, td {\n",
       "    padding: 5px;\n",
       "  }\n",
       "  th {\n",
       "    text-align: left;\n",
       "  }\n",
       "</style><div class='table-result-container'><table class='table-result'><thead style='background-color: white'><tr><th>category</th><th>post_year</th><th>category_count</th></tr></thead><tbody><tr><td>mens-fashion</td><td>2020-08-28T03:52:47.000+0000</td><td>4</td></tr><tr><td>diy-and-crafts</td><td>2020-04-27T13:34:16.000+0000</td><td>1</td></tr><tr><td>christmas</td><td>2022-05-27T11:30:59.000+0000</td><td>1</td></tr><tr><td>quotes</td><td>2019-09-13T04:50:29.000+0000</td><td>1</td></tr><tr><td>finance</td><td>2021-04-19T17:37:03.000+0000</td><td>1</td></tr><tr><td>education</td><td>2019-12-15T03:51:28.000+0000</td><td>1</td></tr><tr><td>vehicles</td><td>2022-01-01T02:26:50.000+0000</td><td>1</td></tr><tr><td>diy-and-crafts</td><td>2019-09-08T22:53:09.000+0000</td><td>1</td></tr><tr><td>event-planning</td><td>2021-03-20T09:32:44.000+0000</td><td>1</td></tr><tr><td>christmas</td><td>2019-11-03T05:41:59.000+0000</td><td>1</td></tr><tr><td>diy-and-crafts</td><td>2018-02-28T05:31:29.000+0000</td><td>1</td></tr><tr><td>vehicles</td><td>2018-07-13T11:51:15.000+0000</td><td>1</td></tr><tr><td>travel</td><td>2018-07-18T19:01:46.000+0000</td><td>1</td></tr><tr><td>travel</td><td>2020-03-20T13:03:18.000+0000</td><td>1</td></tr><tr><td>diy-and-crafts</td><td>2018-01-13T19:33:49.000+0000</td><td>1</td></tr><tr><td>art</td><td>2020-09-27T18:46:41.000+0000</td><td>1</td></tr><tr><td>diy-and-crafts</td><td>2021-07-25T02:20:29.000+0000</td><td>1</td></tr><tr><td>diy-and-crafts</td><td>2019-08-19T08:22:02.000+0000</td><td>1</td></tr><tr><td>mens-fashion</td><td>2018-08-06T12:17:07.000+0000</td><td>1</td></tr><tr><td>tattoos</td><td>2020-07-17T04:39:09.000+0000</td><td>1</td></tr><tr><td>mens-fashion</td><td>2019-03-20T03:15:07.000+0000</td><td>1</td></tr><tr><td>finance</td><td>2021-07-21T02:02:35.000+0000</td><td>1</td></tr><tr><td>beauty</td><td>2018-06-26T02:39:25.000+0000</td><td>1</td></tr><tr><td>home-decor</td><td>2019-12-05T02:09:44.000+0000</td><td>1</td></tr><tr><td>home-decor</td><td>2021-07-20T09:02:47.000+0000</td><td>1</td></tr></tbody></table></div>"
      ]
     },
     "metadata": {
      "application/vnd.databricks.v1+output": {
       "addedWidgets": {},
       "aggData": [],
       "aggError": "",
       "aggOverflow": false,
       "aggSchema": [],
       "aggSeriesLimitReached": false,
       "aggType": "",
       "arguments": {},
       "columnCustomDisplayInfos": {},
       "data": [
        [
         "mens-fashion",
         "2020-08-28T03:52:47.000+0000",
         4
        ],
        [
         "diy-and-crafts",
         "2020-04-27T13:34:16.000+0000",
         1
        ],
        [
         "christmas",
         "2022-05-27T11:30:59.000+0000",
         1
        ],
        [
         "quotes",
         "2019-09-13T04:50:29.000+0000",
         1
        ],
        [
         "finance",
         "2021-04-19T17:37:03.000+0000",
         1
        ],
        [
         "education",
         "2019-12-15T03:51:28.000+0000",
         1
        ],
        [
         "vehicles",
         "2022-01-01T02:26:50.000+0000",
         1
        ],
        [
         "diy-and-crafts",
         "2019-09-08T22:53:09.000+0000",
         1
        ],
        [
         "event-planning",
         "2021-03-20T09:32:44.000+0000",
         1
        ],
        [
         "christmas",
         "2019-11-03T05:41:59.000+0000",
         1
        ],
        [
         "diy-and-crafts",
         "2018-02-28T05:31:29.000+0000",
         1
        ],
        [
         "vehicles",
         "2018-07-13T11:51:15.000+0000",
         1
        ],
        [
         "travel",
         "2018-07-18T19:01:46.000+0000",
         1
        ],
        [
         "travel",
         "2020-03-20T13:03:18.000+0000",
         1
        ],
        [
         "diy-and-crafts",
         "2018-01-13T19:33:49.000+0000",
         1
        ],
        [
         "art",
         "2020-09-27T18:46:41.000+0000",
         1
        ],
        [
         "diy-and-crafts",
         "2021-07-25T02:20:29.000+0000",
         1
        ],
        [
         "diy-and-crafts",
         "2019-08-19T08:22:02.000+0000",
         1
        ],
        [
         "mens-fashion",
         "2018-08-06T12:17:07.000+0000",
         1
        ],
        [
         "tattoos",
         "2020-07-17T04:39:09.000+0000",
         1
        ],
        [
         "mens-fashion",
         "2019-03-20T03:15:07.000+0000",
         1
        ],
        [
         "finance",
         "2021-07-21T02:02:35.000+0000",
         1
        ],
        [
         "beauty",
         "2018-06-26T02:39:25.000+0000",
         1
        ],
        [
         "home-decor",
         "2019-12-05T02:09:44.000+0000",
         1
        ],
        [
         "home-decor",
         "2021-07-20T09:02:47.000+0000",
         1
        ]
       ],
       "datasetInfos": [],
       "dbfsResultPath": null,
       "isJsonSchema": true,
       "metadata": {},
       "overflow": false,
       "plotOptions": {
        "customPlotOptions": {},
        "displayType": "table",
        "pivotAggregation": null,
        "pivotColumns": null,
        "xColumns": null,
        "yColumns": null
       },
       "removedWidgets": [],
       "schema": [
        {
         "metadata": "{}",
         "name": "category",
         "type": "\"string\""
        },
        {
         "metadata": "{}",
         "name": "post_year",
         "type": "\"timestamp\""
        },
        {
         "metadata": "{}",
         "name": "category_count",
         "type": "\"long\""
        }
       ],
       "type": "table"
      }
     },
     "output_type": "display_data"
    }
   ],
   "source": [
    "%sql\n",
    "\n",
    "-- Find how many posts each category had between 2018 and 2022.\n",
    "-- TASK 5\n",
    "SELECT PIN.category,\n",
    "       GEO.timestamp as post_year,\n",
    "       count(*) as category_count\n",
    "FROM `0a2f66c3e41f_df_geo` AS GEO\n",
    "LEFT JOIN `0a2f66c3e41f_df_pin` AS PIN\n",
    "ON GEO.ind = PIN.ind\n",
    "WHERE EXTRACT(YEAR FROM timestamp) BETWEEN 2018 AND 2022\n",
    "GROUP BY PIN.category, GEO.`timestamp`\n",
    "ORDER BY COUNT(*) DESC;"
   ]
  },
  {
   "cell_type": "code",
   "execution_count": null,
   "metadata": {
    "application/vnd.databricks.v1+cell": {
     "cellMetadata": {
      "byteLimit": 2048000,
      "implicitDf": true,
      "rowLimit": 10000
     },
     "inputWidgets": {},
     "nuid": "6e48e470-0de6-4cbc-88af-b508c797eefc",
     "showTitle": false,
     "title": ""
    }
   },
   "outputs": [
    {
     "data": {
      "text/html": [
       "<style scoped>\n",
       "  .table-result-container {\n",
       "    max-height: 300px;\n",
       "    overflow: auto;\n",
       "  }\n",
       "  table, th, td {\n",
       "    border: 1px solid black;\n",
       "    border-collapse: collapse;\n",
       "  }\n",
       "  th, td {\n",
       "    padding: 5px;\n",
       "  }\n",
       "  th {\n",
       "    text-align: left;\n",
       "  }\n",
       "</style><div class='table-result-container'><table class='table-result'><thead style='background-color: white'><tr><th>country</th><th>poster_name</th><th>follower_count</th><th>user_name</th></tr></thead><tbody><tr><td>Angola</td><td>CraftGossip.com</td><td>502000</td><td>David Griffith</td></tr><tr><td>Anguilla</td><td>Kristen | Lifestyle, Mom Tips & Teacher Stuff Blog</td><td>92000</td><td>Corey Andrews</td></tr><tr><td>Antarctica (the territory South of 60 deg S)</td><td>HikenDip</td><td>500000</td><td>Amanda Adams</td></tr><tr><td>Armenia</td><td>Michelle {CraftyMorning.com}</td><td>892000</td><td>Andrew Baker</td></tr><tr><td>Aruba</td><td>TheTrendSpotter</td><td>211000</td><td>Andrea Alexander</td></tr><tr><td>Australia</td><td>Cultura Colectiva</td><td>1000000</td><td>Anne Clayton</td></tr><tr><td>Azerbaijan</td><td>Style Me Pretty</td><td>6000000</td><td>Amanda Ball</td></tr><tr><td>Bangladesh</td><td>Architectural Digest</td><td>3000000</td><td>Claudia Adams</td></tr><tr><td>Barbados</td><td>Nicki </td><td>28000</td><td>Brendan Joseph</td></tr><tr><td>Bulgaria</td><td>Living Low Key | Save Money, Make Money, & Frugal Living</td><td>26000</td><td>Anne Allen</td></tr><tr><td>Cambodia</td><td>Mixed Media Crafts</td><td>6000</td><td>Robert Murphy</td></tr><tr><td>Central African Republic</td><td>PureWow</td><td>868000</td><td>Annette Forbes</td></tr><tr><td>Cocos (Keeling) Islands</td><td>Ray Uyemura</td><td>437</td><td>Thomas Turner</td></tr><tr><td>Colombia</td><td>Consuelo Aguirre</td><td>0</td><td>Rachel Davis</td></tr><tr><td>Cote d'Ivoire</td><td>The Crafting Chicks</td><td>192000</td><td>Brian Nelson</td></tr><tr><td>Dominican Republic</td><td>Petite in Paris</td><td>3000</td><td>Kaylee Miller</td></tr><tr><td>French Guiana</td><td>Commitment Connection</td><td>51000</td><td>Charles Berry</td></tr><tr><td>Jamaica</td><td>hobbyDB</td><td>8000</td><td>Christian Lang</td></tr><tr><td>Maldives</td><td>Thrive Causemetics</td><td>43000</td><td>Brittany Jones</td></tr><tr><td>Mozambique</td><td>Stylin by Aylin</td><td>83000</td><td>Emily Hawkins</td></tr><tr><td>Sudan</td><td>iElylike ..✿◕‿◕✿ஐ✿◕‿◕✿</td><td>940</td><td>Cheryl Huerta</td></tr></tbody></table></div>"
      ]
     },
     "metadata": {
      "application/vnd.databricks.v1+output": {
       "addedWidgets": {},
       "aggData": [],
       "aggError": "",
       "aggOverflow": false,
       "aggSchema": [],
       "aggSeriesLimitReached": false,
       "aggType": "",
       "arguments": {},
       "columnCustomDisplayInfos": {},
       "data": [
        [
         "Angola",
         "CraftGossip.com",
         502000,
         "David Griffith"
        ],
        [
         "Anguilla",
         "Kristen | Lifestyle, Mom Tips & Teacher Stuff Blog",
         92000,
         "Corey Andrews"
        ],
        [
         "Antarctica (the territory South of 60 deg S)",
         "HikenDip",
         500000,
         "Amanda Adams"
        ],
        [
         "Armenia",
         "Michelle {CraftyMorning.com}",
         892000,
         "Andrew Baker"
        ],
        [
         "Aruba",
         "TheTrendSpotter",
         211000,
         "Andrea Alexander"
        ],
        [
         "Australia",
         "Cultura Colectiva",
         1000000,
         "Anne Clayton"
        ],
        [
         "Azerbaijan",
         "Style Me Pretty",
         6000000,
         "Amanda Ball"
        ],
        [
         "Bangladesh",
         "Architectural Digest",
         3000000,
         "Claudia Adams"
        ],
        [
         "Barbados",
         "Nicki ",
         28000,
         "Brendan Joseph"
        ],
        [
         "Bulgaria",
         "Living Low Key | Save Money, Make Money, & Frugal Living",
         26000,
         "Anne Allen"
        ],
        [
         "Cambodia",
         "Mixed Media Crafts",
         6000,
         "Robert Murphy"
        ],
        [
         "Central African Republic",
         "PureWow",
         868000,
         "Annette Forbes"
        ],
        [
         "Cocos (Keeling) Islands",
         "Ray Uyemura",
         437,
         "Thomas Turner"
        ],
        [
         "Colombia",
         "Consuelo Aguirre",
         0,
         "Rachel Davis"
        ],
        [
         "Cote d'Ivoire",
         "The Crafting Chicks",
         192000,
         "Brian Nelson"
        ],
        [
         "Dominican Republic",
         "Petite in Paris",
         3000,
         "Kaylee Miller"
        ],
        [
         "French Guiana",
         "Commitment Connection",
         51000,
         "Charles Berry"
        ],
        [
         "Jamaica",
         "hobbyDB",
         8000,
         "Christian Lang"
        ],
        [
         "Maldives",
         "Thrive Causemetics",
         43000,
         "Brittany Jones"
        ],
        [
         "Mozambique",
         "Stylin by Aylin",
         83000,
         "Emily Hawkins"
        ],
        [
         "Sudan",
         "iElylike ..✿◕‿◕✿ஐ✿◕‿◕✿",
         940,
         "Cheryl Huerta"
        ]
       ],
       "datasetInfos": [],
       "dbfsResultPath": null,
       "isJsonSchema": true,
       "metadata": {},
       "overflow": false,
       "plotOptions": {
        "customPlotOptions": {},
        "displayType": "table",
        "pivotAggregation": null,
        "pivotColumns": null,
        "xColumns": null,
        "yColumns": null
       },
       "removedWidgets": [],
       "schema": [
        {
         "metadata": "{}",
         "name": "country",
         "type": "\"string\""
        },
        {
         "metadata": "{}",
         "name": "poster_name",
         "type": "\"string\""
        },
        {
         "metadata": "{}",
         "name": "follower_count",
         "type": "\"integer\""
        },
        {
         "metadata": "{}",
         "name": "user_name",
         "type": "\"string\""
        }
       ],
       "type": "table"
      }
     },
     "output_type": "display_data"
    }
   ],
   "source": [
    "%sql\n",
    "-- TASK 6\n",
    "-- Find the user with most followers in each country\n",
    "-- Step 1: For each country find the user with the most followers.\n",
    "WITH TopUsers AS (\n",
    "    SELECT\n",
    "        geo.country,\n",
    "        pin.poster_name,\n",
    "        pin.follower_count,\n",
    "        user.user_name,\n",
    "        ROW_NUMBER() OVER (PARTITION BY country ORDER BY follower_count DESC) AS rn\n",
    "    FROM\n",
    "        df_geo AS geo\n",
    "    LEFT JOIN \n",
    "        df_pin AS pin ON geo.ind = pin.ind\n",
    "    LEFT JOIN\n",
    "        df_user AS user ON user.ind = pin.ind  \n",
    "    WHERE \n",
    "        pin.follower_count IS NOT NULL\n",
    ")\n",
    "SELECT\n",
    "    country,\n",
    "    poster_name,\n",
    "    follower_count,\n",
    "    user_name\n",
    "FROM\n",
    "    TopUsers\n",
    "WHERE\n",
    "    rn = 1\n",
    "ORDER BY country;\n",
    "\n",
    "\n",
    "-- Step 2: Based on the above query, find the country with the user with most followers\n",
    "WITH TopCountry AS (\n",
    "    SELECT\n",
    "        geo.country,\n",
    "        poster_name,\n",
    "        follower_count,\n",
    "        ROW_NUMBER() OVER (PARTITION BY country ORDER BY follower_count DESC) AS rn\n",
    "    FROM\n",
    "        df_geo AS geo\n",
    "    LEFT JOIN \n",
    "        df_pin AS pin ON geo.ind = pin.ind\n",
    "    WHERE \n",
    "        pin.follower_count IS NOT NULL\n",
    ")\n",
    "SELECT\n",
    "    country,\n",
    "    MAX(follower_count) AS max_follower_count\n",
    "FROM\n",
    "    TopCountry\n",
    "GROUP BY\n",
    "    country\n",
    "ORDER BY\n",
    "    max_follower_count DESC\n",
    "LIMIT 1;\n",
    "\n",
    "\n"
   ]
  },
  {
   "cell_type": "code",
   "execution_count": null,
   "metadata": {
    "application/vnd.databricks.v1+cell": {
     "cellMetadata": {
      "byteLimit": 2048000,
      "implicitDf": true,
      "rowLimit": 10000
     },
     "inputWidgets": {},
     "nuid": "fc1df8fa-e7c6-4b3e-bc9a-e58b86dae8b5",
     "showTitle": false,
     "title": ""
    }
   },
   "outputs": [
    {
     "data": {
      "text/html": [
       "<style scoped>\n",
       "  .table-result-container {\n",
       "    max-height: 300px;\n",
       "    overflow: auto;\n",
       "  }\n",
       "  table, th, td {\n",
       "    border: 1px solid black;\n",
       "    border-collapse: collapse;\n",
       "  }\n",
       "  th, td {\n",
       "    padding: 5px;\n",
       "  }\n",
       "  th {\n",
       "    text-align: left;\n",
       "  }\n",
       "</style><div class='table-result-container'><table class='table-result'><thead style='background-color: white'><tr><th>age_group</th><th>category</th><th>category_count</th></tr></thead><tbody><tr><td>18-24</td><td>mens-fashion</td><td>6</td></tr><tr><td>18-24</td><td>diy-and-crafts</td><td>3</td></tr><tr><td>18-24</td><td>christmas</td><td>2</td></tr><tr><td>18-24</td><td>art</td><td>1</td></tr><tr><td>18-24</td><td>tattoos</td><td>1</td></tr><tr><td>18-24</td><td>home-decor</td><td>1</td></tr><tr><td>25-35</td><td>vehicles</td><td>2</td></tr><tr><td>25-35</td><td>diy-and-crafts</td><td>2</td></tr><tr><td>25-35</td><td>travel</td><td>2</td></tr><tr><td>25-35</td><td>beauty</td><td>1</td></tr><tr><td>25-35</td><td>finance</td><td>1</td></tr><tr><td>25-35</td><td>event-planning</td><td>1</td></tr><tr><td>25-35</td><td>quotes</td><td>1</td></tr><tr><td>25-35</td><td>home-decor</td><td>1</td></tr><tr><td>36-50</td><td>education</td><td>1</td></tr><tr><td>36-50</td><td>finance</td><td>1</td></tr><tr><td>36-50</td><td>diy-and-crafts</td><td>1</td></tr></tbody></table></div>"
      ]
     },
     "metadata": {
      "application/vnd.databricks.v1+output": {
       "addedWidgets": {},
       "aggData": [],
       "aggError": "",
       "aggOverflow": false,
       "aggSchema": [],
       "aggSeriesLimitReached": false,
       "aggType": "",
       "arguments": {},
       "columnCustomDisplayInfos": {},
       "data": [
        [
         "18-24",
         "mens-fashion",
         6
        ],
        [
         "18-24",
         "diy-and-crafts",
         3
        ],
        [
         "18-24",
         "christmas",
         2
        ],
        [
         "18-24",
         "art",
         1
        ],
        [
         "18-24",
         "tattoos",
         1
        ],
        [
         "18-24",
         "home-decor",
         1
        ],
        [
         "25-35",
         "vehicles",
         2
        ],
        [
         "25-35",
         "diy-and-crafts",
         2
        ],
        [
         "25-35",
         "travel",
         2
        ],
        [
         "25-35",
         "beauty",
         1
        ],
        [
         "25-35",
         "finance",
         1
        ],
        [
         "25-35",
         "event-planning",
         1
        ],
        [
         "25-35",
         "quotes",
         1
        ],
        [
         "25-35",
         "home-decor",
         1
        ],
        [
         "36-50",
         "education",
         1
        ],
        [
         "36-50",
         "finance",
         1
        ],
        [
         "36-50",
         "diy-and-crafts",
         1
        ]
       ],
       "datasetInfos": [],
       "dbfsResultPath": null,
       "isJsonSchema": true,
       "metadata": {},
       "overflow": false,
       "plotOptions": {
        "customPlotOptions": {},
        "displayType": "table",
        "pivotAggregation": null,
        "pivotColumns": null,
        "xColumns": null,
        "yColumns": null
       },
       "removedWidgets": [],
       "schema": [
        {
         "metadata": "{}",
         "name": "age_group",
         "type": "\"string\""
        },
        {
         "metadata": "{}",
         "name": "category",
         "type": "\"string\""
        },
        {
         "metadata": "{}",
         "name": "category_count",
         "type": "\"long\""
        }
       ],
       "type": "table"
      }
     },
     "output_type": "display_data"
    }
   ],
   "source": [
    "%sql\n",
    "\n",
    "-- TASK 7\n",
    "-- What is the most popular category people post to based on the following age groups:\n",
    "-- 18-24\n",
    "-- 25-35\n",
    "-- 36-50\n",
    "-- +50\n",
    "\n",
    "SELECT \n",
    "    age_group,\n",
    "    category,\n",
    "    COUNT(*) AS category_count\n",
    "FROM (\n",
    "    SELECT\n",
    "        CASE\n",
    "            WHEN age BETWEEN 18 AND 24 THEN '18-24'\n",
    "            WHEN age BETWEEN 25 AND 35 THEN '25-35'\n",
    "            WHEN age BETWEEN 36 AND 50 THEN '36-50'\n",
    "            WHEN age > 50 THEN '50+'\n",
    "        END AS age_group,\n",
    "        category\n",
    "    FROM df_user\n",
    "    LEFT JOIN df_pin ON df_user.ind = df_pin.ind\n",
    ") AS age_category\n",
    "GROUP BY age_group, category\n",
    "ORDER BY age_group, category_count DESC\n"
   ]
  },
  {
   "cell_type": "code",
   "execution_count": null,
   "metadata": {
    "application/vnd.databricks.v1+cell": {
     "cellMetadata": {
      "byteLimit": 2048000,
      "implicitDf": true,
      "rowLimit": 10000
     },
     "inputWidgets": {},
     "nuid": "abf27eba-181d-4536-b5cf-493b5fb80215",
     "showTitle": false,
     "title": ""
    }
   },
   "outputs": [
    {
     "data": {
      "text/html": [
       "<style scoped>\n",
       "  .table-result-container {\n",
       "    max-height: 300px;\n",
       "    overflow: auto;\n",
       "  }\n",
       "  table, th, td {\n",
       "    border: 1px solid black;\n",
       "    border-collapse: collapse;\n",
       "  }\n",
       "  th, td {\n",
       "    padding: 5px;\n",
       "  }\n",
       "  th {\n",
       "    text-align: left;\n",
       "  }\n",
       "</style><div class='table-result-container'><table class='table-result'><thead style='background-color: white'><tr><th>age_group</th><th>median_follower_count</th></tr></thead><tbody><tr><td>36-50</td><td>6000.0</td></tr><tr><td>25-35</td><td>43000.0</td></tr><tr><td>18-24</td><td>502000.0</td></tr></tbody></table></div>"
      ]
     },
     "metadata": {
      "application/vnd.databricks.v1+output": {
       "addedWidgets": {},
       "aggData": [],
       "aggError": "",
       "aggOverflow": false,
       "aggSchema": [],
       "aggSeriesLimitReached": false,
       "aggType": "",
       "arguments": {},
       "columnCustomDisplayInfos": {},
       "data": [
        [
         "36-50",
         6000
        ],
        [
         "25-35",
         43000
        ],
        [
         "18-24",
         502000
        ]
       ],
       "datasetInfos": [],
       "dbfsResultPath": null,
       "isJsonSchema": true,
       "metadata": {},
       "overflow": false,
       "plotOptions": {
        "customPlotOptions": {},
        "displayType": "table",
        "pivotAggregation": null,
        "pivotColumns": null,
        "xColumns": null,
        "yColumns": null
       },
       "removedWidgets": [],
       "schema": [
        {
         "metadata": "{}",
         "name": "age_group",
         "type": "\"string\""
        },
        {
         "metadata": "{}",
         "name": "median_follower_count",
         "type": "\"double\""
        }
       ],
       "type": "table"
      }
     },
     "output_type": "display_data"
    }
   ],
   "source": [
    "%sql\n",
    "\n",
    "-- # TASK 8\n",
    "-- # Find the median follower count for different age group\n",
    "\n",
    "SELECT\n",
    "    CASE\n",
    "        WHEN age BETWEEN 18 AND 24 THEN '18-24'\n",
    "        WHEN age BETWEEN 25 AND 35 THEN '25-35'\n",
    "        WHEN age BETWEEN 36 AND 50 THEN '36-50'\n",
    "        WHEN age > 50 THEN '+50'\n",
    "        ELSE 'Unknown'\n",
    "    END AS age_group,\n",
    "    percentile(follower_count, 0.5) AS \n",
    "    median_follower_count\n",
    "FROM \n",
    "    df_user\n",
    "LEFT JOIN \n",
    "    df_pin \n",
    "ON df_user.ind = df_pin.ind\n",
    "GROUP BY\n",
    "    CASE\n",
    "        WHEN age BETWEEN 18 AND 24 THEN '18-24'\n",
    "        WHEN age BETWEEN 25 AND 35 THEN '25-35'\n",
    "        WHEN age BETWEEN 36 AND 50 THEN '36-50'\n",
    "        WHEN age > 50 THEN '+50'\n",
    "        ELSE 'Unknown'\n",
    "    END\n",
    "ORDER BY age_group DESC;\n"
   ]
  },
  {
   "cell_type": "code",
   "execution_count": null,
   "metadata": {
    "application/vnd.databricks.v1+cell": {
     "cellMetadata": {
      "byteLimit": 2048000,
      "implicitDf": true,
      "rowLimit": 10000
     },
     "inputWidgets": {},
     "nuid": "0003ee61-d562-4567-b017-3605d5827e67",
     "showTitle": false,
     "title": ""
    }
   },
   "outputs": [
    {
     "data": {
      "text/html": [
       "<style scoped>\n",
       "  .table-result-container {\n",
       "    max-height: 300px;\n",
       "    overflow: auto;\n",
       "  }\n",
       "  table, th, td {\n",
       "    border: 1px solid black;\n",
       "    border-collapse: collapse;\n",
       "  }\n",
       "  th, td {\n",
       "    padding: 5px;\n",
       "  }\n",
       "  th {\n",
       "    text-align: left;\n",
       "  }\n",
       "</style><div class='table-result-container'><table class='table-result'><thead style='background-color: white'><tr><th>number_users_joined</th><th>year_column</th></tr></thead><tbody><tr><td>15</td><td>2015</td></tr><tr><td>8</td><td>2016</td></tr><tr><td>3</td><td>2017</td></tr></tbody></table></div>"
      ]
     },
     "metadata": {
      "application/vnd.databricks.v1+output": {
       "addedWidgets": {},
       "aggData": [],
       "aggError": "",
       "aggOverflow": false,
       "aggSchema": [],
       "aggSeriesLimitReached": false,
       "aggType": "",
       "arguments": {},
       "columnCustomDisplayInfos": {},
       "data": [
        [
         15,
         2015
        ],
        [
         8,
         2016
        ],
        [
         3,
         2017
        ]
       ],
       "datasetInfos": [],
       "dbfsResultPath": null,
       "isJsonSchema": true,
       "metadata": {},
       "overflow": false,
       "plotOptions": {
        "customPlotOptions": {},
        "displayType": "table",
        "pivotAggregation": null,
        "pivotColumns": null,
        "xColumns": null,
        "yColumns": null
       },
       "removedWidgets": [],
       "schema": [
        {
         "metadata": "{}",
         "name": "number_users_joined",
         "type": "\"long\""
        },
        {
         "metadata": "{}",
         "name": "year_column",
         "type": "\"integer\""
        }
       ],
       "type": "table"
      }
     },
     "output_type": "display_data"
    }
   ],
   "source": [
    "%sql\n",
    "-- TASK 9\n",
    "-- Find how many users have joined between 2015 and 2020.\n",
    "SELECT\n",
    "      count(*) AS number_users_joined,  \n",
    "      EXTRACT(YEAR FROM date_joined) AS year_column\n",
    "FROM \n",
    "      df_user\n",
    "WHERE \n",
    "      EXTRACT(YEAR FROM date_joined) BETWEEN 2015 AND 2020\n",
    "GROUP BY \n",
    "      year_column\n",
    "ORDER BY \n",
    "      EXTRACT(YEAR FROM date_joined);"
   ]
  },
  {
   "cell_type": "code",
   "execution_count": null,
   "metadata": {
    "application/vnd.databricks.v1+cell": {
     "cellMetadata": {
      "byteLimit": 2048000,
      "implicitDf": true,
      "rowLimit": 10000
     },
     "inputWidgets": {},
     "nuid": "33cc5c34-f48e-4db7-9cb5-ddf45ca34d09",
     "showTitle": false,
     "title": ""
    }
   },
   "outputs": [
    {
     "data": {
      "text/html": [
       "<style scoped>\n",
       "  .table-result-container {\n",
       "    max-height: 300px;\n",
       "    overflow: auto;\n",
       "  }\n",
       "  table, th, td {\n",
       "    border: 1px solid black;\n",
       "    border-collapse: collapse;\n",
       "  }\n",
       "  th, td {\n",
       "    padding: 5px;\n",
       "  }\n",
       "  th {\n",
       "    text-align: left;\n",
       "  }\n",
       "</style><div class='table-result-container'><table class='table-result'><thead style='background-color: white'><tr><th>post_year</th><th>median_follower_count</th></tr></thead><tbody><tr><td>2015</td><td>87500.0</td></tr><tr><td>2016</td><td>313000.0</td></tr><tr><td>2017</td><td>6000.0</td></tr></tbody></table></div>"
      ]
     },
     "metadata": {
      "application/vnd.databricks.v1+output": {
       "addedWidgets": {},
       "aggData": [],
       "aggError": "",
       "aggOverflow": false,
       "aggSchema": [],
       "aggSeriesLimitReached": false,
       "aggType": "",
       "arguments": {},
       "columnCustomDisplayInfos": {},
       "data": [
        [
         2015,
         87500
        ],
        [
         2016,
         313000
        ],
        [
         2017,
         6000
        ]
       ],
       "datasetInfos": [],
       "dbfsResultPath": null,
       "isJsonSchema": true,
       "metadata": {},
       "overflow": false,
       "plotOptions": {
        "customPlotOptions": {},
        "displayType": "table",
        "pivotAggregation": null,
        "pivotColumns": null,
        "xColumns": null,
        "yColumns": null
       },
       "removedWidgets": [],
       "schema": [
        {
         "metadata": "{}",
         "name": "post_year",
         "type": "\"integer\""
        },
        {
         "metadata": "{}",
         "name": "median_follower_count",
         "type": "\"double\""
        }
       ],
       "type": "table"
      }
     },
     "output_type": "display_data"
    }
   ],
   "source": [
    "%sql\n",
    "\n",
    "-- Task 10\n",
    "-- Find the median follower count of users have joined between 2015 and 2020\n",
    "SELECT \n",
    "    EXTRACT(YEAR FROM df_user.date_joined) AS post_year,\n",
    "    PERCENTILE_CONT(0.5) WITHIN GROUP (ORDER BY df_pin.follower_count) AS median_follower_count\n",
    "FROM \n",
    "    df_user\n",
    "LEFT JOIN \n",
    "    df_pin ON df_user.ind = df_pin.ind\n",
    "WHERE \n",
    "    EXTRACT(YEAR FROM df_user.date_joined) BETWEEN 2015 AND 2020\n",
    "GROUP BY \n",
    "    EXTRACT(YEAR FROM df_user.date_joined);\n",
    "\n"
   ]
  },
  {
   "cell_type": "code",
   "execution_count": null,
   "metadata": {
    "application/vnd.databricks.v1+cell": {
     "cellMetadata": {
      "byteLimit": 2048000,
      "implicitDf": true,
      "rowLimit": 10000
     },
     "inputWidgets": {},
     "nuid": "cf1b9f80-f530-46a3-9fb5-b977633a50ed",
     "showTitle": false,
     "title": ""
    }
   },
   "outputs": [
    {
     "data": {
      "text/html": [
       "<style scoped>\n",
       "  .table-result-container {\n",
       "    max-height: 300px;\n",
       "    overflow: auto;\n",
       "  }\n",
       "  table, th, td {\n",
       "    border: 1px solid black;\n",
       "    border-collapse: collapse;\n",
       "  }\n",
       "  th, td {\n",
       "    padding: 5px;\n",
       "  }\n",
       "  th {\n",
       "    text-align: left;\n",
       "  }\n",
       "</style><div class='table-result-container'><table class='table-result'><thead style='background-color: white'><tr><th>age_group</th><th>post_year</th><th>median_follower_count</th></tr></thead><tbody><tr><td>20</td><td>2015</td><td>1750000.0</td></tr><tr><td>21</td><td>2015</td><td>211000.0</td></tr><tr><td>22</td><td>2015</td><td>892000.0</td></tr><tr><td>23</td><td>2015</td><td>92000.0</td></tr><tr><td>25</td><td>2015</td><td>51000.0</td></tr><tr><td>26</td><td>2015</td><td>110000.0</td></tr><tr><td>27</td><td>2015</td><td>26000.0</td></tr><tr><td>30</td><td>2015</td><td>83000.0</td></tr><tr><td>36</td><td>2015</td><td>12500.0</td></tr><tr><td>20</td><td>2016</td><td>502000.0</td></tr><tr><td>21</td><td>2016</td><td>868000.0</td></tr><tr><td>24</td><td>2016</td><td>1000000.0</td></tr><tr><td>25</td><td>2016</td><td>6000000.0</td></tr><tr><td>31</td><td>2016</td><td>3000.0</td></tr><tr><td>32</td><td>2016</td><td>83500.0</td></tr><tr><td>34</td><td>2016</td><td>437.0</td></tr><tr><td>20</td><td>2017</td><td>940.0</td></tr><tr><td>32</td><td>2017</td><td>8000.0</td></tr><tr><td>48</td><td>2017</td><td>6000.0</td></tr></tbody></table></div>"
      ]
     },
     "metadata": {
      "application/vnd.databricks.v1+output": {
       "addedWidgets": {},
       "aggData": [],
       "aggError": "",
       "aggOverflow": false,
       "aggSchema": [],
       "aggSeriesLimitReached": false,
       "aggType": "",
       "arguments": {},
       "columnCustomDisplayInfos": {},
       "data": [
        [
         20,
         2015,
         1750000
        ],
        [
         21,
         2015,
         211000
        ],
        [
         22,
         2015,
         892000
        ],
        [
         23,
         2015,
         92000
        ],
        [
         25,
         2015,
         51000
        ],
        [
         26,
         2015,
         110000
        ],
        [
         27,
         2015,
         26000
        ],
        [
         30,
         2015,
         83000
        ],
        [
         36,
         2015,
         12500
        ],
        [
         20,
         2016,
         502000
        ],
        [
         21,
         2016,
         868000
        ],
        [
         24,
         2016,
         1000000
        ],
        [
         25,
         2016,
         6000000
        ],
        [
         31,
         2016,
         3000
        ],
        [
         32,
         2016,
         83500
        ],
        [
         34,
         2016,
         437
        ],
        [
         20,
         2017,
         940
        ],
        [
         32,
         2017,
         8000
        ],
        [
         48,
         2017,
         6000
        ]
       ],
       "datasetInfos": [],
       "dbfsResultPath": null,
       "isJsonSchema": true,
       "metadata": {},
       "overflow": false,
       "plotOptions": {
        "customPlotOptions": {},
        "displayType": "table",
        "pivotAggregation": null,
        "pivotColumns": null,
        "xColumns": null,
        "yColumns": null
       },
       "removedWidgets": [],
       "schema": [
        {
         "metadata": "{}",
         "name": "age_group",
         "type": "\"long\""
        },
        {
         "metadata": "{}",
         "name": "post_year",
         "type": "\"integer\""
        },
        {
         "metadata": "{}",
         "name": "median_follower_count",
         "type": "\"double\""
        }
       ],
       "type": "table"
      }
     },
     "output_type": "display_data"
    }
   ],
   "source": [
    "%sql\n",
    "\n",
    "-- TASK 11\n",
    "-- Find the median follower count of users that have joined between 2015 and 2020, based on which age group they are part of.\n",
    "\n",
    "SELECT \n",
    "      df_user.age AS age_group,\n",
    "      EXTRACT(YEAR FROM df_user.date_joined) AS post_year,\n",
    "      PERCENTILE_CONT(0.5) WITHIN GROUP (ORDER BY df_pin.follower_count) AS median_follower_count\n",
    "FROM\n",
    "    df_user\n",
    "LEFT JOIN \n",
    "    df_pin \n",
    "ON \n",
    "    df_user.ind = df_pin.ind\n",
    "WHERE\n",
    "    EXTRACT(YEAR FROM df_user.date_joined) BETWEEN 2015 AND 2020\n",
    "GROUP BY \n",
    "    EXTRACT(YEAR FROM date_joined),\n",
    "    df_user.age\n",
    "ORDER BY \n",
    "    EXTRACT(YEAR FROM date_joined),\n",
    "    df_user.age;"
   ]
  }
 ],
 "metadata": {
  "application/vnd.databricks.v1+notebook": {
   "dashboards": [],
   "language": "python",
   "notebookMetadata": {
    "mostRecentlyExecutedCommandWithImplicitDF": {
     "commandId": 198588058359896,
     "dataframes": [
      "_sqldf"
     ]
    },
    "pythonIndentUnit": 4
   },
   "notebookName": "sql_data_queries",
   "widgets": {}
  },
  "language_info": {
   "name": "python"
  }
 },
 "nbformat": 4,
 "nbformat_minor": 0
}
